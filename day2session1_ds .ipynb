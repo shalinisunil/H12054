{
  "nbformat": 4,
  "nbformat_minor": 0,
  "metadata": {
    "colab": {
      "name": "day2session1.ipynb",
      "provenance": [],
      "collapsed_sections": []
    },
    "kernelspec": {
      "name": "python3",
      "display_name": "Python 3"
    }
  },
  "cells": [
    {
      "cell_type": "code",
      "metadata": {
        "id": "kVUBIDiYQNab",
        "colab_type": "code",
        "colab": {
          "base_uri": "https://localhost:8080/",
          "height": 364
        },
        "outputId": "90f40353-472f-4e5f-f9ac-7173153b1401"
      },
      "source": [
        "print(f\"Corona infected states using LIST\")\n",
        "list1=['Maharashtra','TamilNadu','Delhi','Chennai','Gujarat']\n",
        "list1.sort()\n",
        "for x in list1:\n",
        " print(x)\n",
        "\n",
        "print(f\"Corona infected states with its count using LIST\")\n",
        "list2=[64689,92175,33913,187000,103432]\n",
        "for a,b in zip(list1,list2):\n",
        "  print(f\"{a} -> {b}\")\n",
        "\n",
        "print(f\"Numbers in recovered state wise using TUPLES\")\n",
        "tuple1=('Maharashtra','TamilNadu','Delhi','Chennai','Gujarat')\n",
        "tuple2=(101343,58378,63007,40111,24593)\n",
        "for i in range(0,len(tuple1)):\n",
        "  print(f\"{tuple1[i]} = {tuple2[i]}\")\n",
        "  \n",
        "print(f\"Numbers in infected state wise using Dictionary\")\n",
        "dict1={\"Maharashtra\":\"187000\",\"TamilNadu\":\"103432\",\"Delhi\":\"92175\",\"Chennai\":\"64689\",\"Gujarat\":\"33913\"}\n",
        "print(dict1)\n",
        "#for key,val in dict1.items():\n",
        "#print (key,\":\",val)\n",
        "   \n",
        "\n",
        "\n",
        "\n"
      ],
      "execution_count": 3,
      "outputs": [
        {
          "output_type": "stream",
          "text": [
            "Corona infected states using LIST\n",
            "Chennai\n",
            "Delhi\n",
            "Gujarat\n",
            "Maharashtra\n",
            "TamilNadu\n",
            "Corona infected states with its count using LIST\n",
            "Chennai -> 64689\n",
            "Delhi -> 92175\n",
            "Gujarat -> 33913\n",
            "Maharashtra -> 187000\n",
            "TamilNadu -> 103432\n",
            "Numbers in recovered state wise using TUPLES\n",
            "Maharashtra = 101343\n",
            "TamilNadu = 58378\n",
            "Delhi = 63007\n",
            "Chennai = 40111\n",
            "Gujarat = 24593\n",
            "Numbers in infected state wise using Dictionary\n",
            "{'Maharashtra': '187000', 'TamilNadu': '103432', 'Delhi': '92175', 'Chennai': '64689', 'Gujarat': '33913'}\n"
          ],
          "name": "stdout"
        }
      ]
    }
  ]
}
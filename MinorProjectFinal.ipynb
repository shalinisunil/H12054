{
 "cells": [
  {
   "cell_type": "code",
   "execution_count": 2,
   "metadata": {},
   "outputs": [
    {
     "data": {
      "text/html": [
       "<div>\n",
       "<style scoped>\n",
       "    .dataframe tbody tr th:only-of-type {\n",
       "        vertical-align: middle;\n",
       "    }\n",
       "\n",
       "    .dataframe tbody tr th {\n",
       "        vertical-align: top;\n",
       "    }\n",
       "\n",
       "    .dataframe thead th {\n",
       "        text-align: right;\n",
       "    }\n",
       "</style>\n",
       "<table border=\"1\" class=\"dataframe\">\n",
       "  <thead>\n",
       "    <tr style=\"text-align: right;\">\n",
       "      <th></th>\n",
       "      <th>Sno</th>\n",
       "      <th>Date</th>\n",
       "      <th>Time</th>\n",
       "      <th>ConfirmedIndianNational</th>\n",
       "      <th>ConfirmedForeignNational</th>\n",
       "      <th>Cured</th>\n",
       "      <th>Deaths</th>\n",
       "      <th>Confirmed</th>\n",
       "    </tr>\n",
       "    <tr>\n",
       "      <th>State/UnionTerritory</th>\n",
       "      <th></th>\n",
       "      <th></th>\n",
       "      <th></th>\n",
       "      <th></th>\n",
       "      <th></th>\n",
       "      <th></th>\n",
       "      <th></th>\n",
       "      <th></th>\n",
       "    </tr>\n",
       "  </thead>\n",
       "  <tbody>\n",
       "    <tr>\n",
       "      <th>Delhi</th>\n",
       "      <td>35</td>\n",
       "      <td>2020-02-03</td>\n",
       "      <td>6:00 PM</td>\n",
       "      <td>1</td>\n",
       "      <td>0</td>\n",
       "      <td>0</td>\n",
       "      <td>0</td>\n",
       "      <td>1</td>\n",
       "    </tr>\n",
       "    <tr>\n",
       "      <th>Delhi</th>\n",
       "      <td>39</td>\n",
       "      <td>2020-03-03</td>\n",
       "      <td>6:00 PM</td>\n",
       "      <td>1</td>\n",
       "      <td>0</td>\n",
       "      <td>0</td>\n",
       "      <td>0</td>\n",
       "      <td>1</td>\n",
       "    </tr>\n",
       "    <tr>\n",
       "      <th>Delhi</th>\n",
       "      <td>43</td>\n",
       "      <td>2020-04-03</td>\n",
       "      <td>6:00 PM</td>\n",
       "      <td>1</td>\n",
       "      <td>0</td>\n",
       "      <td>0</td>\n",
       "      <td>0</td>\n",
       "      <td>1</td>\n",
       "    </tr>\n",
       "    <tr>\n",
       "      <th>Delhi</th>\n",
       "      <td>46</td>\n",
       "      <td>2020-05-03</td>\n",
       "      <td>6:00 PM</td>\n",
       "      <td>2</td>\n",
       "      <td>0</td>\n",
       "      <td>0</td>\n",
       "      <td>0</td>\n",
       "      <td>2</td>\n",
       "    </tr>\n",
       "    <tr>\n",
       "      <th>Delhi</th>\n",
       "      <td>52</td>\n",
       "      <td>2020-06-03</td>\n",
       "      <td>6:00 PM</td>\n",
       "      <td>3</td>\n",
       "      <td>0</td>\n",
       "      <td>0</td>\n",
       "      <td>0</td>\n",
       "      <td>3</td>\n",
       "    </tr>\n",
       "    <tr>\n",
       "      <th>...</th>\n",
       "      <td>...</td>\n",
       "      <td>...</td>\n",
       "      <td>...</td>\n",
       "      <td>...</td>\n",
       "      <td>...</td>\n",
       "      <td>...</td>\n",
       "      <td>...</td>\n",
       "      <td>...</td>\n",
       "    </tr>\n",
       "    <tr>\n",
       "      <th>Delhi</th>\n",
       "      <td>3612</td>\n",
       "      <td>2020-01-07</td>\n",
       "      <td>8:00 AM</td>\n",
       "      <td>-</td>\n",
       "      <td>-</td>\n",
       "      <td>58348</td>\n",
       "      <td>2742</td>\n",
       "      <td>87360</td>\n",
       "    </tr>\n",
       "    <tr>\n",
       "      <th>Delhi</th>\n",
       "      <td>3648</td>\n",
       "      <td>2020-02-07</td>\n",
       "      <td>8:00 AM</td>\n",
       "      <td>-</td>\n",
       "      <td>-</td>\n",
       "      <td>59992</td>\n",
       "      <td>2803</td>\n",
       "      <td>89802</td>\n",
       "    </tr>\n",
       "    <tr>\n",
       "      <th>Delhi</th>\n",
       "      <td>3684</td>\n",
       "      <td>2020-03-07</td>\n",
       "      <td>8:00 AM</td>\n",
       "      <td>-</td>\n",
       "      <td>-</td>\n",
       "      <td>63007</td>\n",
       "      <td>2864</td>\n",
       "      <td>92175</td>\n",
       "    </tr>\n",
       "    <tr>\n",
       "      <th>Delhi</th>\n",
       "      <td>3720</td>\n",
       "      <td>2020-04-07</td>\n",
       "      <td>8:00 AM</td>\n",
       "      <td>-</td>\n",
       "      <td>-</td>\n",
       "      <td>65624</td>\n",
       "      <td>2923</td>\n",
       "      <td>94695</td>\n",
       "    </tr>\n",
       "    <tr>\n",
       "      <th>Delhi</th>\n",
       "      <td>3756</td>\n",
       "      <td>2020-05-07</td>\n",
       "      <td>8:00 AM</td>\n",
       "      <td>-</td>\n",
       "      <td>-</td>\n",
       "      <td>68256</td>\n",
       "      <td>3004</td>\n",
       "      <td>97200</td>\n",
       "    </tr>\n",
       "  </tbody>\n",
       "</table>\n",
       "<p>126 rows × 8 columns</p>\n",
       "</div>"
      ],
      "text/plain": [
       "                       Sno       Date     Time ConfirmedIndianNational  \\\n",
       "State/UnionTerritory                                                     \n",
       "Delhi                   35 2020-02-03  6:00 PM                       1   \n",
       "Delhi                   39 2020-03-03  6:00 PM                       1   \n",
       "Delhi                   43 2020-04-03  6:00 PM                       1   \n",
       "Delhi                   46 2020-05-03  6:00 PM                       2   \n",
       "Delhi                   52 2020-06-03  6:00 PM                       3   \n",
       "...                    ...        ...      ...                     ...   \n",
       "Delhi                 3612 2020-01-07  8:00 AM                       -   \n",
       "Delhi                 3648 2020-02-07  8:00 AM                       -   \n",
       "Delhi                 3684 2020-03-07  8:00 AM                       -   \n",
       "Delhi                 3720 2020-04-07  8:00 AM                       -   \n",
       "Delhi                 3756 2020-05-07  8:00 AM                       -   \n",
       "\n",
       "                     ConfirmedForeignNational  Cured  Deaths  Confirmed  \n",
       "State/UnionTerritory                                                     \n",
       "Delhi                                       0      0       0          1  \n",
       "Delhi                                       0      0       0          1  \n",
       "Delhi                                       0      0       0          1  \n",
       "Delhi                                       0      0       0          2  \n",
       "Delhi                                       0      0       0          3  \n",
       "...                                       ...    ...     ...        ...  \n",
       "Delhi                                       -  58348    2742      87360  \n",
       "Delhi                                       -  59992    2803      89802  \n",
       "Delhi                                       -  63007    2864      92175  \n",
       "Delhi                                       -  65624    2923      94695  \n",
       "Delhi                                       -  68256    3004      97200  \n",
       "\n",
       "[126 rows x 8 columns]"
      ]
     },
     "execution_count": 2,
     "metadata": {},
     "output_type": "execute_result"
    }
   ],
   "source": [
    "import matplotlib.pyplot\n",
    "import pandas as pd\n",
    "#ax=plt.gca\n",
    "data=  pd.read_csv('covid_19_india.csv',index_col=\"State/UnionTerritory\" , parse_dates=['Date'])\n",
    "#data=pd.read_csv('district_wise.csv',index_col=\"State_Code\")\n",
    "df=data.loc[\"Delhi\"]\n",
    "#print(type[rows])\n",
    "df\n"
   ]
  },
  {
   "cell_type": "code",
   "execution_count": 3,
   "metadata": {},
   "outputs": [
    {
     "data": {
      "text/html": [
       "<div>\n",
       "<style scoped>\n",
       "    .dataframe tbody tr th:only-of-type {\n",
       "        vertical-align: middle;\n",
       "    }\n",
       "\n",
       "    .dataframe tbody tr th {\n",
       "        vertical-align: top;\n",
       "    }\n",
       "\n",
       "    .dataframe thead th {\n",
       "        text-align: right;\n",
       "    }\n",
       "</style>\n",
       "<table border=\"1\" class=\"dataframe\">\n",
       "  <thead>\n",
       "    <tr style=\"text-align: right;\">\n",
       "      <th></th>\n",
       "      <th>State/UnionTerritory</th>\n",
       "      <th>Sno</th>\n",
       "      <th>Date</th>\n",
       "      <th>Time</th>\n",
       "      <th>ConfirmedIndianNational</th>\n",
       "      <th>ConfirmedForeignNational</th>\n",
       "      <th>Cured</th>\n",
       "      <th>Deaths</th>\n",
       "      <th>Confirmed</th>\n",
       "    </tr>\n",
       "  </thead>\n",
       "  <tbody>\n",
       "    <tr>\n",
       "      <th>0</th>\n",
       "      <td>Delhi</td>\n",
       "      <td>52</td>\n",
       "      <td>2020-06-03</td>\n",
       "      <td>6:00 PM</td>\n",
       "      <td>3</td>\n",
       "      <td>0</td>\n",
       "      <td>0</td>\n",
       "      <td>0</td>\n",
       "      <td>3</td>\n",
       "    </tr>\n",
       "    <tr>\n",
       "      <th>1</th>\n",
       "      <td>Delhi</td>\n",
       "      <td>686</td>\n",
       "      <td>2020-06-04</td>\n",
       "      <td>6:00 PM</td>\n",
       "      <td>-</td>\n",
       "      <td>-</td>\n",
       "      <td>19</td>\n",
       "      <td>7</td>\n",
       "      <td>523</td>\n",
       "    </tr>\n",
       "    <tr>\n",
       "      <th>2</th>\n",
       "      <td>Delhi</td>\n",
       "      <td>1647</td>\n",
       "      <td>2020-06-05</td>\n",
       "      <td>8:00 AM</td>\n",
       "      <td>-</td>\n",
       "      <td>-</td>\n",
       "      <td>1468</td>\n",
       "      <td>64</td>\n",
       "      <td>5104</td>\n",
       "    </tr>\n",
       "    <tr>\n",
       "      <th>3</th>\n",
       "      <td>Delhi</td>\n",
       "      <td>2711</td>\n",
       "      <td>2020-06-06</td>\n",
       "      <td>8:00 AM</td>\n",
       "      <td>-</td>\n",
       "      <td>-</td>\n",
       "      <td>10315</td>\n",
       "      <td>708</td>\n",
       "      <td>26334</td>\n",
       "    </tr>\n",
       "    <tr>\n",
       "      <th>4</th>\n",
       "      <td>Delhi</td>\n",
       "      <td>2964</td>\n",
       "      <td>2020-06-13</td>\n",
       "      <td>8:00 AM</td>\n",
       "      <td>-</td>\n",
       "      <td>-</td>\n",
       "      <td>13398</td>\n",
       "      <td>1214</td>\n",
       "      <td>36824</td>\n",
       "    </tr>\n",
       "  </tbody>\n",
       "</table>\n",
       "</div>"
      ],
      "text/plain": [
       "  State/UnionTerritory   Sno        Date     Time ConfirmedIndianNational  \\\n",
       "0                Delhi    52  2020-06-03  6:00 PM                       3   \n",
       "1                Delhi   686  2020-06-04  6:00 PM                       -   \n",
       "2                Delhi  1647  2020-06-05  8:00 AM                       -   \n",
       "3                Delhi  2711  2020-06-06  8:00 AM                       -   \n",
       "4                Delhi  2964  2020-06-13  8:00 AM                       -   \n",
       "\n",
       "  ConfirmedForeignNational  Cured  Deaths  Confirmed  \n",
       "0                        0      0       0          3  \n",
       "1                        -     19       7        523  \n",
       "2                        -   1468      64       5104  \n",
       "3                        -  10315     708      26334  \n",
       "4                        -  13398    1214      36824  "
      ]
     },
     "execution_count": 3,
     "metadata": {},
     "output_type": "execute_result"
    }
   ],
   "source": [
    "mask=df['Date'].dt.month==6\n",
    "df.loc[mask].to_csv(\"newfile.csv\")\n",
    "df1=  pd.read_csv('newfile.csv')\n",
    "df1.head()\n"
   ]
  },
  {
   "cell_type": "code",
   "execution_count": 9,
   "metadata": {},
   "outputs": [
    {
     "data": {
      "image/png": "[encoded data removed]",
      "text/plain": [
       "<Figure size 432x288 with 1 Axes>"
      ]
     },
     "metadata": {
      "needs_background": "light"
     },
     "output_type": "display_data"
    }
   ],
   "source": [
    "df1.plot(x=\"Date\",y=[\"Cured\",\"Confirmed\",\"Deaths\"])\n",
    "plt.title('Evaluation of Covid-19 infected strategy in Delhi\\n\\n')\n",
    "plt.show()"
   ]
  },
  {
   "cell_type": "code",
   "execution_count": 12,
   "metadata": {},
   "outputs": [
    {
     "data": {
      "image/png": "[encoded data removed]",
      "text/plain": [
       "<Figure size 432x288 with 1 Axes>"
      ]
     },
     "metadata": {
      "needs_background": "light"
     },
     "output_type": "display_data"
    }
   ],
   "source": [
    "df1=  pd.read_csv('newfile.csv')\n",
    "plt.plot ([],[],color='c',label='Cured' ,linewidth=8 )\n",
    "plt.plot ([],[],color='r',label='Deaths', linewidth=8 )\n",
    "plt.plot ([],[],color='m',label='Confirmed', linewidth=8 )\n",
    "plt.stackplot(df1['Date'],df1['Cured'],df1['Deaths'],df1['Confirmed'],colors=['c','r','m'])\n",
    "#fig=plt.figure()\n",
    "#fig.autofmt_xdate()\n",
    "#ax=plt.subplots()\n",
    "#ax.set_xticklabels(ax.get_xticklabels(),rotation=40, ha=\"right\")\n",
    "plt.xlabel('Date: june 2020')\n",
    "plt.xticks(rotation=90)\n",
    "#plt.ylabel('Cured_Deaths_Confirmed')\n",
    "plt.title('Evaluation of Covid-19 infected strategy in Delhi\\n\\n')\n",
    "plt.legend()\n",
    "plt.show()"
   ]
  },
  {
   "cell_type": "code",
   "execution_count": 13,
   "metadata": {},
   "outputs": [
    {
     "data": {
      "text/plain": [
       "Text(0.5, 1.0, 'Evaluation of Covid-19 infected strategy in Delhi')"
      ]
     },
     "execution_count": 13,
     "metadata": {},
     "output_type": "execute_result"
    },
    {
     "data": {
      "image/png": "[encoded data removed]",
      "text/plain": [
       "<Figure size 432x288 with 1 Axes>"
      ]
     },
     "metadata": {
      "needs_background": "light"
     },
     "output_type": "display_data"
    }
   ],
   "source": [
    "#import matplotlib.pyplot as plt\n",
    "#import pandas as pd\n",
    "df1=pd.read_csv('newfile.csv')\n",
    "plt.xticks(rotation=90)\n",
    "#df1.boxplot(by='Date', column = ['Cured','Confirmed','Deaths'],grid=False)\n",
    "df1.boxplot(column = ['Cured','Confirmed','Deaths'],grid=False)\n",
    "plt.title('Evaluation of Covid-19 infected strategy in Delhi')\n"
   ]
  },
  {
   "cell_type": "code",
   "execution_count": 14,
   "metadata": {},
   "outputs": [
    {
     "data": {
      "text/plain": [
       "Text(0.5, 1.0, 'Evaluation of Covid-19 infected strategy in Delhi')"
      ]
     },
     "execution_count": 14,
     "metadata": {},
     "output_type": "execute_result"
    },
    {
     "data": {
      "image/png": "[encoded data removed]",
      "text/plain": [
       "<Figure size 432x288 with 1 Axes>"
      ]
     },
     "metadata": {
      "needs_background": "light"
     },
     "output_type": "display_data"
    },
    {
     "data": {
      "image/png": "[encoded data removed]",
      "text/plain": [
       "<Figure size 432x288 with 4 Axes>"
      ]
     },
     "metadata": {
      "needs_background": "light"
     },
     "output_type": "display_data"
    }
   ],
   "source": [
    "df1=pd.read_csv('newfile.csv')\n",
    "plt.xticks(rotation=90)\n",
    "df1.boxplot(by='Date', column = ['Cured','Confirmed','Deaths'],grid=False)\n",
    "#df1.boxplot(column = ['Cured','Confirmed','Deaths'],grid=False)\n",
    "plt.title('Evaluation of Covid-19 infected strategy in Delhi')\n"
   ]
  },
  {
   "cell_type": "code",
   "execution_count": null,
   "metadata": {},
   "outputs": [],
   "source": []
  }
 ],
 "metadata": {
  "kernelspec": {
   "display_name": "Python 3",
   "language": "python",
   "name": "python3"
  },
  "language_info": {
   "codemirror_mode": {
    "name": "ipython",
    "version": 3
   },
   "file_extension": ".py",
   "mimetype": "text/x-python",
   "name": "python",
   "nbconvert_exporter": "python",
   "pygments_lexer": "ipython3",
   "version": "3.7.6"
  }
 },
 "nbformat": 4,
 "nbformat_minor": 4
}

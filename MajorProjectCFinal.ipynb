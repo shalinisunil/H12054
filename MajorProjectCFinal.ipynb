{
 "cells": [
  {
   "cell_type": "code",
   "execution_count": 14,
   "metadata": {},
   "outputs": [
    {
     "name": "stdout",
     "output_type": "stream",
     "text": [
      "Requirement already up-to-date: scikit-learn in c:\\users\\elcot\\anaconda3\\lib\\site-packages (0.23.1)\n",
      "Requirement already up-to-date: scipy in c:\\users\\elcot\\anaconda3\\lib\\site-packages (1.5.1)\n",
      "Collecting matplotlib\n",
      "  Using cached matplotlib-3.2.2-cp37-cp37m-win_amd64.whl (9.2 MB)\n",
      "Requirement already satisfied, skipping upgrade: joblib>=0.11 in c:\\users\\elcot\\anaconda3\\lib\\site-packages (from scikit-learn) (0.14.1)\n",
      "Requirement already satisfied, skipping upgrade: threadpoolctl>=2.0.0 in c:\\users\\elcot\\anaconda3\\lib\\site-packages (from scikit-learn) (2.1.0)\n",
      "Requirement already satisfied, skipping upgrade: numpy>=1.13.3 in c:\\users\\elcot\\anaconda3\\lib\\site-packages (from scikit-learn) (1.18.1)\n",
      "Requirement already satisfied, skipping upgrade: pyparsing!=2.0.4,!=2.1.2,!=2.1.6,>=2.0.1 in c:\\users\\elcot\\anaconda3\\lib\\site-packages (from matplotlib) (2.4.6)\n",
      "Requirement already satisfied, skipping upgrade: cycler>=0.10 in c:\\users\\elcot\\anaconda3\\lib\\site-packages (from matplotlib) (0.10.0)\n",
      "Requirement already satisfied, skipping upgrade: kiwisolver>=1.0.1 in c:\\users\\elcot\\anaconda3\\lib\\site-packages (from matplotlib) (1.1.0)\n",
      "Requirement already satisfied, skipping upgrade: python-dateutil>=2.1 in c:\\users\\elcot\\anaconda3\\lib\\site-packages (from matplotlib) (2.8.1)\n",
      "Requirement already satisfied, skipping upgrade: six in c:\\users\\elcot\\anaconda3\\lib\\site-packages (from cycler>=0.10->matplotlib) (1.14.0)\n",
      "Requirement already satisfied, skipping upgrade: setuptools in c:\\users\\elcot\\anaconda3\\lib\\site-packages (from kiwisolver>=1.0.1->matplotlib) (45.2.0.post20200210)\n",
      "Installing collected packages: matplotlib\n"
     ]
    },
    {
     "name": "stderr",
     "output_type": "stream",
     "text": [
      "ERROR: Could not install packages due to an EnvironmentError: [WinError 5] Access is denied: 'C:\\\\Users\\\\ELCOT\\\\anaconda3\\\\Lib\\\\site-packages\\\\matplotlib\\\\ft2font.cp37-win_amd64.pyd'\n",
      "Consider using the `--user` option or check the permissions.\n",
      "\n"
     ]
    },
    {
     "name": "stdout",
     "output_type": "stream",
     "text": [
      "Note: you may need to restart the kernel to use updated packages.\n"
     ]
    }
   ],
   "source": [
    "pip install -U scikit-learn scipy matplotlib"
   ]
  },
  {
   "cell_type": "code",
   "execution_count": 15,
   "metadata": {},
   "outputs": [
    {
     "ename": "ModuleNotFoundError",
     "evalue": "No module named 'sklearn.SVM'",
     "output_type": "error",
     "traceback": [
      "\u001b[1;31m---------------------------------------------------------------------------\u001b[0m",
      "\u001b[1;31mModuleNotFoundError\u001b[0m                       Traceback (most recent call last)",
      "\u001b[1;32m<ipython-input-15-3994fb2c179e>\u001b[0m in \u001b[0;36m<module>\u001b[1;34m\u001b[0m\n\u001b[0;32m      1\u001b[0m \u001b[1;32mimport\u001b[0m \u001b[0mnumpy\u001b[0m \u001b[1;32mas\u001b[0m \u001b[0mnp\u001b[0m\u001b[1;33m\u001b[0m\u001b[1;33m\u001b[0m\u001b[0m\n\u001b[0;32m      2\u001b[0m \u001b[1;32mfrom\u001b[0m \u001b[0msklearn\u001b[0m\u001b[1;33m.\u001b[0m\u001b[0mlinear_model\u001b[0m \u001b[1;32mimport\u001b[0m \u001b[0mLinearRegression\u001b[0m\u001b[1;33m\u001b[0m\u001b[1;33m\u001b[0m\u001b[0m\n\u001b[1;32m----> 3\u001b[1;33m \u001b[1;32mfrom\u001b[0m \u001b[0msklearn\u001b[0m\u001b[1;33m.\u001b[0m\u001b[0mSVM\u001b[0m \u001b[1;32mimport\u001b[0m \u001b[0mSVR\u001b[0m\u001b[1;33m\u001b[0m\u001b[1;33m\u001b[0m\u001b[0m\n\u001b[0m\u001b[0;32m      4\u001b[0m \u001b[1;32mfrom\u001b[0m \u001b[0msklearn\u001b[0m\u001b[1;33m.\u001b[0m\u001b[0mmodel_selection\u001b[0m \u001b[1;32mimport\u001b[0m \u001b[0mtrain_test_split\u001b[0m\u001b[1;33m\u001b[0m\u001b[1;33m\u001b[0m\u001b[0m\n",
      "\u001b[1;31mModuleNotFoundError\u001b[0m: No module named 'sklearn.SVM'"
     ]
    }
   ],
   "source": [
    "import numpy as np\n",
    "from sklearn.linear_model import LinearRegression\n",
    "from sklearn.SVM import SVR\n",
    "from sklearn.model_selection import train_test_split\n"
   ]
  },
  {
   "cell_type": "code",
   "execution_count": 4,
   "metadata": {},
   "outputs": [
    {
     "data": {
      "text/html": [
       "<div>\n",
       "<style scoped>\n",
       "    .dataframe tbody tr th:only-of-type {\n",
       "        vertical-align: middle;\n",
       "    }\n",
       "\n",
       "    .dataframe tbody tr th {\n",
       "        vertical-align: top;\n",
       "    }\n",
       "\n",
       "    .dataframe thead th {\n",
       "        text-align: right;\n",
       "    }\n",
       "</style>\n",
       "<table border=\"1\" class=\"dataframe\">\n",
       "  <thead>\n",
       "    <tr style=\"text-align: right;\">\n",
       "      <th></th>\n",
       "      <th>Unnamed: 0</th>\n",
       "      <th>Date</th>\n",
       "      <th>Confirmed</th>\n",
       "      <th>Deceased</th>\n",
       "      <th>Recovered</th>\n",
       "      <th>State_Name</th>\n",
       "    </tr>\n",
       "    <tr>\n",
       "      <th>State</th>\n",
       "      <th></th>\n",
       "      <th></th>\n",
       "      <th></th>\n",
       "      <th></th>\n",
       "      <th></th>\n",
       "      <th></th>\n",
       "    </tr>\n",
       "  </thead>\n",
       "  <tbody>\n",
       "    <tr>\n",
       "      <th>AP</th>\n",
       "      <td>1</td>\n",
       "      <td>2020-04-01</td>\n",
       "      <td>67</td>\n",
       "      <td>0</td>\n",
       "      <td>1</td>\n",
       "      <td>Andhra Pradesh</td>\n",
       "    </tr>\n",
       "    <tr>\n",
       "      <th>AP</th>\n",
       "      <td>40</td>\n",
       "      <td>2020-07-01</td>\n",
       "      <td>657</td>\n",
       "      <td>6</td>\n",
       "      <td>477</td>\n",
       "      <td>Andhra Pradesh</td>\n",
       "    </tr>\n",
       "    <tr>\n",
       "      <th>AP</th>\n",
       "      <td>79</td>\n",
       "      <td>2020-06-01</td>\n",
       "      <td>105</td>\n",
       "      <td>2</td>\n",
       "      <td>34</td>\n",
       "      <td>Andhra Pradesh</td>\n",
       "    </tr>\n",
       "    <tr>\n",
       "      <th>AP</th>\n",
       "      <td>118</td>\n",
       "      <td>2020-05-01</td>\n",
       "      <td>60</td>\n",
       "      <td>2</td>\n",
       "      <td>82</td>\n",
       "      <td>Andhra Pradesh</td>\n",
       "    </tr>\n",
       "    <tr>\n",
       "      <th>AP</th>\n",
       "      <td>157</td>\n",
       "      <td>2020-04-02</td>\n",
       "      <td>38</td>\n",
       "      <td>0</td>\n",
       "      <td>0</td>\n",
       "      <td>Andhra Pradesh</td>\n",
       "    </tr>\n",
       "    <tr>\n",
       "      <th>...</th>\n",
       "      <td>...</td>\n",
       "      <td>...</td>\n",
       "      <td>...</td>\n",
       "      <td>...</td>\n",
       "      <td>...</td>\n",
       "      <td>...</td>\n",
       "    </tr>\n",
       "    <tr>\n",
       "      <th>AP</th>\n",
       "      <td>4447</td>\n",
       "      <td>2020-06-30</td>\n",
       "      <td>704</td>\n",
       "      <td>7</td>\n",
       "      <td>279</td>\n",
       "      <td>Andhra Pradesh</td>\n",
       "    </tr>\n",
       "    <tr>\n",
       "      <th>AP</th>\n",
       "      <td>4486</td>\n",
       "      <td>2020-03-30</td>\n",
       "      <td>2</td>\n",
       "      <td>0</td>\n",
       "      <td>0</td>\n",
       "      <td>Andhra Pradesh</td>\n",
       "    </tr>\n",
       "    <tr>\n",
       "      <th>AP</th>\n",
       "      <td>4525</td>\n",
       "      <td>2020-05-30</td>\n",
       "      <td>131</td>\n",
       "      <td>0</td>\n",
       "      <td>55</td>\n",
       "      <td>Andhra Pradesh</td>\n",
       "    </tr>\n",
       "    <tr>\n",
       "      <th>AP</th>\n",
       "      <td>4564</td>\n",
       "      <td>2020-03-31</td>\n",
       "      <td>21</td>\n",
       "      <td>0</td>\n",
       "      <td>0</td>\n",
       "      <td>Andhra Pradesh</td>\n",
       "    </tr>\n",
       "    <tr>\n",
       "      <th>AP</th>\n",
       "      <td>4603</td>\n",
       "      <td>2020-05-31</td>\n",
       "      <td>110</td>\n",
       "      <td>2</td>\n",
       "      <td>51</td>\n",
       "      <td>Andhra Pradesh</td>\n",
       "    </tr>\n",
       "  </tbody>\n",
       "</table>\n",
       "<p>119 rows × 6 columns</p>\n",
       "</div>"
      ],
      "text/plain": [
       "       Unnamed: 0       Date  Confirmed  Deceased  Recovered      State_Name\n",
       "State                                                                       \n",
       "AP              1 2020-04-01         67         0          1  Andhra Pradesh\n",
       "AP             40 2020-07-01        657         6        477  Andhra Pradesh\n",
       "AP             79 2020-06-01        105         2         34  Andhra Pradesh\n",
       "AP            118 2020-05-01         60         2         82  Andhra Pradesh\n",
       "AP            157 2020-04-02         38         0          0  Andhra Pradesh\n",
       "...           ...        ...        ...       ...        ...             ...\n",
       "AP           4447 2020-06-30        704         7        279  Andhra Pradesh\n",
       "AP           4486 2020-03-30          2         0          0  Andhra Pradesh\n",
       "AP           4525 2020-05-30        131         0         55  Andhra Pradesh\n",
       "AP           4564 2020-03-31         21         0          0  Andhra Pradesh\n",
       "AP           4603 2020-05-31        110         2         51  Andhra Pradesh\n",
       "\n",
       "[119 rows x 6 columns]"
      ]
     },
     "execution_count": 4,
     "metadata": {},
     "output_type": "execute_result"
    }
   ],
   "source": [
    "import pandas as pd\n",
    "data = pd.read_csv('state_level_daily.csv',index_col=\"State\" , parse_dates=['Date'])\n",
    "#data=pd.read_csv('district_wise.csv',index_col=\"State_Code\")\n",
    "df=data.loc[\"AP\"]\n",
    "#print(type[rows])\n",
    "df\n"
   ]
  },
  {
   "cell_type": "code",
   "execution_count": 5,
   "metadata": {},
   "outputs": [
    {
     "data": {
      "text/html": [
       "<div>\n",
       "<style scoped>\n",
       "    .dataframe tbody tr th:only-of-type {\n",
       "        vertical-align: middle;\n",
       "    }\n",
       "\n",
       "    .dataframe tbody tr th {\n",
       "        vertical-align: top;\n",
       "    }\n",
       "\n",
       "    .dataframe thead th {\n",
       "        text-align: right;\n",
       "    }\n",
       "</style>\n",
       "<table border=\"1\" class=\"dataframe\">\n",
       "  <thead>\n",
       "    <tr style=\"text-align: right;\">\n",
       "      <th></th>\n",
       "      <th>State</th>\n",
       "      <th>Unnamed: 0</th>\n",
       "      <th>Date</th>\n",
       "      <th>Confirmed</th>\n",
       "      <th>Deceased</th>\n",
       "      <th>Recovered</th>\n",
       "      <th>State_Name</th>\n",
       "    </tr>\n",
       "  </thead>\n",
       "  <tbody>\n",
       "    <tr>\n",
       "      <th>0</th>\n",
       "      <td>AP</td>\n",
       "      <td>79</td>\n",
       "      <td>2020-06-01</td>\n",
       "      <td>105</td>\n",
       "      <td>2</td>\n",
       "      <td>34</td>\n",
       "      <td>Andhra Pradesh</td>\n",
       "    </tr>\n",
       "    <tr>\n",
       "      <th>1</th>\n",
       "      <td>AP</td>\n",
       "      <td>235</td>\n",
       "      <td>2020-06-02</td>\n",
       "      <td>115</td>\n",
       "      <td>0</td>\n",
       "      <td>40</td>\n",
       "      <td>Andhra Pradesh</td>\n",
       "    </tr>\n",
       "    <tr>\n",
       "      <th>2</th>\n",
       "      <td>AP</td>\n",
       "      <td>391</td>\n",
       "      <td>2020-06-03</td>\n",
       "      <td>180</td>\n",
       "      <td>4</td>\n",
       "      <td>50</td>\n",
       "      <td>Andhra Pradesh</td>\n",
       "    </tr>\n",
       "    <tr>\n",
       "      <th>3</th>\n",
       "      <td>AP</td>\n",
       "      <td>547</td>\n",
       "      <td>2020-06-04</td>\n",
       "      <td>141</td>\n",
       "      <td>3</td>\n",
       "      <td>65</td>\n",
       "      <td>Andhra Pradesh</td>\n",
       "    </tr>\n",
       "    <tr>\n",
       "      <th>4</th>\n",
       "      <td>AP</td>\n",
       "      <td>703</td>\n",
       "      <td>2020-06-05</td>\n",
       "      <td>138</td>\n",
       "      <td>2</td>\n",
       "      <td>36</td>\n",
       "      <td>Andhra Pradesh</td>\n",
       "    </tr>\n",
       "  </tbody>\n",
       "</table>\n",
       "</div>"
      ],
      "text/plain": [
       "  State  Unnamed: 0        Date  Confirmed  Deceased  Recovered  \\\n",
       "0    AP          79  2020-06-01        105         2         34   \n",
       "1    AP         235  2020-06-02        115         0         40   \n",
       "2    AP         391  2020-06-03        180         4         50   \n",
       "3    AP         547  2020-06-04        141         3         65   \n",
       "4    AP         703  2020-06-05        138         2         36   \n",
       "\n",
       "       State_Name  \n",
       "0  Andhra Pradesh  \n",
       "1  Andhra Pradesh  \n",
       "2  Andhra Pradesh  \n",
       "3  Andhra Pradesh  \n",
       "4  Andhra Pradesh  "
      ]
     },
     "execution_count": 5,
     "metadata": {},
     "output_type": "execute_result"
    }
   ],
   "source": [
    "mask=df['Date'].dt.month==6\n",
    "df.loc[mask].to_csv(\"newfile.csv\")\n",
    "df1=pd.read_csv('newfile.csv')\n",
    "df1.head()"
   ]
  },
  {
   "cell_type": "code",
   "execution_count": 6,
   "metadata": {},
   "outputs": [
    {
     "name": "stdout",
     "output_type": "stream",
     "text": [
      "   Confirmed  Recovered\n",
      "0        105         34\n",
      "1        115         40\n",
      "2        180         50\n",
      "3        141         65\n",
      "4        138         36\n"
     ]
    }
   ],
   "source": [
    "df1=df1[['Confirmed','Recovered']]\n",
    "print(df1.head())\n"
   ]
  },
  {
   "cell_type": "code",
   "execution_count": 7,
   "metadata": {},
   "outputs": [
    {
     "name": "stdout",
     "output_type": "stream",
     "text": [
      "    Confirmed  Recovered  prediction\n",
      "25        605        208         NaN\n",
      "26        796        284         NaN\n",
      "27        813        428         NaN\n",
      "28        793        324         NaN\n",
      "29        704        279         NaN\n"
     ]
    }
   ],
   "source": [
    "forecast_out=15\n",
    "#df1['prediction']=df1[['Recovered']].shift(-1)\n",
    "df1['prediction']=df1[['Recovered']].shift(-forecast_out)\n",
    "print(df1.tail())"
   ]
  },
  {
   "cell_type": "code",
   "execution_count": 8,
   "metadata": {},
   "outputs": [
    {
     "name": "stdout",
     "output_type": "stream",
     "text": [
      "[[105  34]\n",
      " [115  40]\n",
      " [180  50]\n",
      " [141  65]\n",
      " [138  36]\n",
      " [210  75]\n",
      " [199  29]\n",
      " [154  42]\n",
      " [ 69  48]\n",
      " [365 110]\n",
      " [182  99]\n",
      " [207 123]\n",
      " [222  94]\n",
      " [294 131]\n",
      " [304  69]]\n"
     ]
    }
   ],
   "source": [
    "import numpy as np\n",
    "X=np.array(df1.drop(['prediction'],1))\n",
    "X=X[:-forecast_out]\n",
    "print(X)"
   ]
  },
  {
   "cell_type": "code",
   "execution_count": 9,
   "metadata": {},
   "outputs": [
    {
     "name": "stdout",
     "output_type": "stream",
     "text": [
      "[128. 128. 131. 133. 206. 196. 128. 157. 187. 209. 208. 284. 428. 324.\n",
      " 279.]\n"
     ]
    }
   ],
   "source": [
    "y=np.array(df1['prediction'])\n",
    "y=y[:-forecast_out]\n",
    "print(y)"
   ]
  },
  {
   "cell_type": "code",
   "execution_count": 12,
   "metadata": {},
   "outputs": [],
   "source": [
    "#from sklearn.model_selection import train_test_split\n",
    "#x_train,x_test,y_train,y_test=train_test_split(X,y,test_size=0.2)"
   ]
  },
  {
   "cell_type": "code",
   "execution_count": null,
   "metadata": {},
   "outputs": [],
   "source": [
    "#from sklearn.SVR import SVR\n",
    "#svr_rbf=SVR(kernel='rbf',C=1e3, gamma=0.1)\n",
    "#svr_rbf.fit(x_train,y_train)"
   ]
  },
  {
   "cell_type": "code",
   "execution_count": null,
   "metadata": {},
   "outputs": [],
   "source": [
    "#svm_confidence=svr_rbf.score(x_test,y_test)\n",
    "#print(\"SVM confidence:\",svm_confidence)"
   ]
  },
  {
   "cell_type": "code",
   "execution_count": null,
   "metadata": {},
   "outputs": [],
   "source": [
    "lr_rbf=LinearRegression()\n",
    "lr_rbf.fit(x_train,y_train)\n"
   ]
  },
  {
   "cell_type": "code",
   "execution_count": 23,
   "metadata": {},
   "outputs": [
    {
     "name": "stdout",
     "output_type": "stream",
     "text": [
      "Linear Regression confidence: 0.23042680542136995\n"
     ]
    }
   ],
   "source": [
    "lr_confidence=lr_rbf.score(x_test,y_test)\n",
    "print(\"Linear Regression confidence:\",lr_confidence)"
   ]
  },
  {
   "cell_type": "code",
   "execution_count": 19,
   "metadata": {},
   "outputs": [
    {
     "name": "stdout",
     "output_type": "stream",
     "text": [
      "[[264 128]\n",
      " [351 128]\n",
      " [425 131]\n",
      " [465 133]\n",
      " [491 206]\n",
      " [477 196]\n",
      " [443 128]\n",
      " [462 157]\n",
      " [497 187]\n",
      " [553 209]\n",
      " [605 208]\n",
      " [796 284]\n",
      " [813 428]\n",
      " [793 324]\n",
      " [704 279]]\n"
     ]
    }
   ],
   "source": [
    "x_forecast=np.array(df1.drop(['prediction'],1))[-forecast_out:]\n",
    "print(x_forecast)"
   ]
  },
  {
   "cell_type": "code",
   "execution_count": 22,
   "metadata": {},
   "outputs": [
    {
     "name": "stdout",
     "output_type": "stream",
     "text": [
      "[268.50723429 284.04988997 300.3560822  309.55946569 389.29712121\n",
      " 376.5093297  300.48580171 333.71153088 370.82434693 403.45949888\n",
      " 411.72069459 524.02180288 675.1869865  564.63254728 502.44255387]\n"
     ]
    }
   ],
   "source": [
    "lr_prediction=lr_rbf.predict(x_forecast)\n",
    "print(lr_prediction)"
   ]
  },
  {
   "cell_type": "code",
   "execution_count": null,
   "metadata": {},
   "outputs": [],
   "source": []
  },
  {
   "cell_type": "code",
   "execution_count": null,
   "metadata": {},
   "outputs": [],
   "source": []
  },
  {
   "cell_type": "code",
   "execution_count": null,
   "metadata": {},
   "outputs": [],
   "source": []
  },
  {
   "cell_type": "code",
   "execution_count": null,
   "metadata": {},
   "outputs": [],
   "source": []
  },
  {
   "cell_type": "code",
   "execution_count": null,
   "metadata": {},
   "outputs": [],
   "source": []
  },
  {
   "cell_type": "code",
   "execution_count": null,
   "metadata": {},
   "outputs": [],
   "source": []
  },
  {
   "cell_type": "code",
   "execution_count": null,
   "metadata": {},
   "outputs": [],
   "source": []
  }
 ],
 "metadata": {
  "kernelspec": {
   "display_name": "Python 3",
   "language": "python",
   "name": "python3"
  },
  "language_info": {
   "codemirror_mode": {
    "name": "ipython",
    "version": 3
   },
   "file_extension": ".py",
   "mimetype": "text/x-python",
   "name": "python",
   "nbconvert_exporter": "python",
   "pygments_lexer": "ipython3",
   "version": "3.7.6"
  }
 },
 "nbformat": 4,
 "nbformat_minor": 4
}

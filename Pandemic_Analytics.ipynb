{
 "cells": [
  {
   "cell_type": "code",
   "execution_count": 3,
   "metadata": {},
   "outputs": [],
   "source": [
    "import tkinter as tk\n",
    "import sys\n",
    "\n",
    "class Input(tk.Frame):\n",
    "\n",
    "    def __init__(self, parent):\n",
    "\n",
    "        tk.Frame.__init__(self, parent)\n",
    "        self.parent = parent\n",
    "\n",
    "        states = [\"Maharashtra\", \"Delhi\",\n",
    "                  \"Tamil Nadu\",\"Pudhucherry\"\n",
    "                  \"Andhrapradesh\", \"karnataka\"]\n",
    "\n",
    "        self.ideal_selection = tk.StringVar()\n",
    "        self.ideal_selection.set(states[0])\n",
    "\n",
    "       \n",
    "        self.ideal_label = tk.Label(window, text=\"Select State: \")\n",
    "        self.ideal_entry = tk.OptionMenu(window, self.ideal_selection, *states)\n",
    "\n",
    "       # self.submit_button = tk.Button(text=\"Submit\", command=self.close_window)\n",
    "\n",
    "       # self.name_label.grid(row=0, column=0)\n",
    "     #   self.name_entry.grid(row=0, column=1)\n",
    "\n",
    "       # self.ideal_label.grid(row=1, column=0)\n",
    "      #  self.submit_button.grid(columnspan=2, row=3, column=0)\n",
    "\n",
    "        self.ideal_entry.grid(row=1, column=1)\n",
    "\n",
    "        self.lbl5 = tk.Label(window, text=\"Pandemic Analyzer\", fg='blue', font=(\"Helvetica\", 25))\n",
    "        self.lbl5.grid(column=0, row=0)\n",
    "        self.lbl6 =tk.Label(window, text=\"Select State\", fg='white', font=(\"Helvetica\", 14))\n",
    "        self.lbl6.grid(column=0, row=1)\n",
    "        self.lbl1=tk.Label(window, text='Infected', fg='yellow', font=(\"Helvetica\", 14))\n",
    "        self.lbl2=tk.Label(window, text='Recovered', fg='green', font=(\"Helvetica\", 14))\n",
    "        self.lbl3=tk.Label(window, text='Diseased', fg='red', font=(\"Helvetica\", 14))\n",
    "        self.lbl4=tk.Label(window, text='Value', font=(\"Helvetica\", 14))\n",
    "        self.t1=tk.Entry(bd=3,bg='yellow')\n",
    "        self.t2=tk.Entry(bd=3,bg='light green')\n",
    "        self.t4=tk.Entry(bd=3) \n",
    "        self.t3=tk.Entry(bd=3,bg='red')\n",
    "        self.btn1 =tk.Button(window, text='IMR')\n",
    "        self.btn2=tk.Button(window, text='CMR')\n",
    "        self.b1=tk.Button(window, text='IMR',command=self.imr)\n",
    "        self.b2=tk.Button(window, text='CMR')\n",
    "        self.b2.bind('<Button-1>',self.cmr)\n",
    "        self.lbl1.grid(column=0, row=2)\n",
    "        self.lbl2.grid(column=0, row=3)\n",
    "        self.lbl3.grid(column=0, row=4)\n",
    "        self.b1.grid(column=0, row=5)\n",
    "        self.b2.grid(column=1, row=5)\n",
    "        self.lbl4.grid(column=0, row=6)  \n",
    "        self.t1.grid(column=1,row=2)\n",
    "        self.t2.grid(column=1,row=3)\n",
    "        self.t3.grid(column=1,row=4)\n",
    "        self.t4.grid(column=1,row=6)\n",
    "    def imr(self):\n",
    "        self.t4.delete(0, 'end')\n",
    "        infected=int(self.t1.get())\n",
    "        diseased=int(self.t2.get())\n",
    "        imr_value=diseased/infected * 100\n",
    "        self.t4.insert((1,imr_value))\n",
    "    def cmr(self,event):\n",
    "        self.t4.delete(0, 'end')\n",
    "        undetect=500\n",
    "        infected=int(self.t1.get())\n",
    "        diseased=int(self.t3.get())\n",
    "        cmr_value=diseased/(infected+undetect)* 100\n",
    "        self.t4.insert(0,cmr_value)\n",
    "       # self.t4.insert((cmr_value))\n",
    "if __name__ == '__main__':\n",
    "    window = tk.Tk()\n",
    "    window.geometry(\"600x400+300+300\")\n",
    "    app = Input(window)\n",
    "    window.mainloop()\n",
    "   # returned_ideal = app.ideal_type\n",
    "  #  print(\"Your name is: \" + returned_name)\n",
    "  #  print(\"Your ideal is: \" + returned_ideal)    "
   ]
  },
  {
   "cell_type": "code",
   "execution_count": null,
   "metadata": {},
   "outputs": [],
   "source": []
  },
  {
   "cell_type": "code",
   "execution_count": null,
   "metadata": {},
   "outputs": [],
   "source": []
  },
  {
   "cell_type": "code",
   "execution_count": null,
   "metadata": {},
   "outputs": [],
   "source": []
  },
  {
   "cell_type": "code",
   "execution_count": null,
   "metadata": {},
   "outputs": [],
   "source": []
  },
  {
   "cell_type": "code",
   "execution_count": null,
   "metadata": {},
   "outputs": [],
   "source": []
  },
  {
   "cell_type": "code",
   "execution_count": null,
   "metadata": {},
   "outputs": [],
   "source": []
  },
  {
   "cell_type": "code",
   "execution_count": null,
   "metadata": {},
   "outputs": [],
   "source": []
  },
  {
   "cell_type": "code",
   "execution_count": null,
   "metadata": {},
   "outputs": [],
   "source": []
  },
  {
   "cell_type": "code",
   "execution_count": null,
   "metadata": {},
   "outputs": [],
   "source": []
  },
  {
   "cell_type": "code",
   "execution_count": null,
   "metadata": {},
   "outputs": [],
   "source": []
  },
  {
   "cell_type": "code",
   "execution_count": null,
   "metadata": {},
   "outputs": [],
   "source": []
  },
  {
   "cell_type": "code",
   "execution_count": null,
   "metadata": {},
   "outputs": [],
   "source": []
  },
  {
   "cell_type": "code",
   "execution_count": null,
   "metadata": {},
   "outputs": [],
   "source": []
  },
  {
   "cell_type": "code",
   "execution_count": null,
   "metadata": {},
   "outputs": [],
   "source": []
  }
 ],
 "metadata": {
  "kernelspec": {
   "display_name": "Python 3",
   "language": "python",
   "name": "python3"
  },
  "language_info": {
   "codemirror_mode": {
    "name": "ipython",
    "version": 3
   },
   "file_extension": ".py",
   "mimetype": "text/x-python",
   "name": "python",
   "nbconvert_exporter": "python",
   "pygments_lexer": "ipython3",
   "version": "3.7.6"
  }
 },
 "nbformat": 4,
 "nbformat_minor": 4
}

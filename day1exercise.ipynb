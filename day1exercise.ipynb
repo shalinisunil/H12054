{
  "nbformat": 4,
  "nbformat_minor": 0,
  "metadata": {
    "colab": {
      "name": "day1.ipynb",
      "provenance": [],
      "collapsed_sections": []
    },
    "kernelspec": {
      "name": "python3",
      "display_name": "Python 3"
    }
  },
  "cells": [
    {
      "cell_type": "code",
      "metadata": {
        "id": "vOtCzXp11wsa",
        "colab_type": "code",
        "colab": {
          "base_uri": "https://localhost:8080/",
          "height": 86
        },
        "outputId": "157f123f-12ba-4936-fa87-ea1b354ccd42"
      },
      "source": [
        "infected_total_till_date=1234\n",
        "infected_10th_june=12\n",
        "infected_11th_june=2\n",
        "infected_12th_june=13\n",
        "infected_percent_10th=infected_10th_june-infected_total_till_date/infected_total_till_date*100\n",
        "infected_percent_11th=infected_11th_june-infected_10th_june/infected_10th_june*100\n",
        "infected_percent_12th=infected_12th_june-infected_11th_june/infected_11th_june*100\n",
        "infect_percent_change=(infected_10th_june+infected_11th_june+infected_12th_june)/infected_total_till_date*100\n",
        "print(\"The percentage change in allgiven three days:{}%\".format(infect_percent_change))\n",
        "print(f\"infected_percent_10th_June_2020 = {infected_percent_10th}\")\n",
        "print(f\"infected_percent_11th_June_2020 = {infected_percent_11th}\")\n",
        "print(f\"infected_percent_12th_June_2020 = {infected_percent_12th}\")\n"
      ],
      "execution_count": 1,
      "outputs": [
        {
          "output_type": "stream",
          "text": [
            "The percentage change in allgiven three days:2.188006482982172%\n",
            "infected_percent_10th_June_2020 = -88.0\n",
            "infected_percent_11th_June_2020 = -98.0\n",
            "infected_percent_12th_June_2020 = -87.0\n"
          ],
          "name": "stdout"
        }
      ]
    }
  ]
}
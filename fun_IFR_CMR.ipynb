{
  "nbformat": 4,
  "nbformat_minor": 0,
  "metadata": {
    "colab": {
      "name": "Untitled5.ipynb",
      "provenance": [],
      "collapsed_sections": []
    },
    "kernelspec": {
      "name": "python3",
      "display_name": "Python 3"
    }
  },
  "cells": [
    {
      "cell_type": "code",
      "metadata": {
        "id": "eV14loMtRGf9",
        "colab_type": "code",
        "colab": {}
      },
      "source": [
        ""
      ],
      "execution_count": null,
      "outputs": []
    },
    {
      "cell_type": "code",
      "metadata": {
        "id": "jObZYZxrIK0v",
        "colab_type": "code",
        "colab": {}
      },
      "source": [
        "#function to caculate Infection Fatality Rate of Mumbai\n",
        "def ifr(tot_died,tot_infected):\n",
        "  ifr_value=tot_died/tot_infected*100\n",
        "  print(\"The IFR value is : {} % \".format(ifr_value)) \n",
        "  \n",
        "\n",
        "  \n",
        "#function to calculate Crude Mortality Ratio\n",
        "def cmr(tot_died,tot_infected,tot_recovered):\n",
        "  tot_population=tot_infected+tot_recovered\n",
        "  cmr_value=tot_died/tot_population*100\n",
        "  print(\"The CMR value is :{} %\".format(cmr_value)) \n",
        "  \n"
      ],
      "execution_count": 1,
      "outputs": []
    },
    {
      "cell_type": "code",
      "metadata": {
        "id": "ruPAQDLoRQKZ",
        "colab_type": "code",
        "colab": {}
      },
      "source": [
        ""
      ],
      "execution_count": 1,
      "outputs": []
    },
    {
      "cell_type": "code",
      "metadata": {
        "id": "AVVvjD2HOgyw",
        "colab_type": "code",
        "colab": {
          "base_uri": "https://localhost:8080/",
          "height": 34
        },
        "outputId": "3e390ee2-da4f-4e95-efa3-d52169de39eb"
      },
      "source": [
        "ifr(5732,136596)\n",
        "\n",
        "\n",
        "\n"
      ],
      "execution_count": 2,
      "outputs": [
        {
          "output_type": "stream",
          "text": [
            "The IFR value is : 4.196316143957364 % \n"
          ],
          "name": "stdout"
        }
      ]
    },
    {
      "cell_type": "code",
      "metadata": {
        "id": "IW_7Wvb2R0VE",
        "colab_type": "code",
        "colab": {}
      },
      "source": [
        ""
      ],
      "execution_count": 2,
      "outputs": []
    },
    {
      "cell_type": "code",
      "metadata": {
        "id": "UwbaFnMoQ6q2",
        "colab_type": "code",
        "colab": {
          "base_uri": "https://localhost:8080/",
          "height": 34
        },
        "outputId": "c34bd050-423d-4bd0-a426-79fef169ebf3"
      },
      "source": [
        "cmr(5732,136596,67890)\n"
      ],
      "execution_count": 3,
      "outputs": [
        {
          "output_type": "stream",
          "text": [
            "The CMR value is :2.803125886368749 %\n"
          ],
          "name": "stdout"
        }
      ]
    }
  ]
}